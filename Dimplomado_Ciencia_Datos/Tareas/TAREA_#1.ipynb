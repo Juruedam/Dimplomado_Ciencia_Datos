{
 "cells": [
  {
   "cell_type": "markdown",
   "id": "eadd6e8a-0abe-4296-8475-e9321859d5ca",
   "metadata": {
    "tags": []
   },
   "source": [
    "<figure>\n",
    "<img \n",
    "src=https://1.bp.blogspot.com/-ma951NZ_Ctg/WT2E6xpX2zI/AAAAAAAAa0E/SLtbyzmV8E4TCBHCIEf6Bs9bBzQwIjS3gCLcB/s1600/Integral%2BDefinida.png  width=\"213\" height=\"101\" align=\"right\"/> \n",
    "</figure> \n",
    "\n",
    "\n",
    "# <span style=\"color:Blue\"><left>Integrales Definidas</left></span>\n"
   ]
  },
  {
   "cell_type": "markdown",
   "id": "725af922-4e8d-4e70-b8a8-19a0881df12e",
   "metadata": {},
   "source": [
    "#### Juan Diego Rueda Mantilla\n",
    "> Soy un estudiante de física de la Universidad Nacional de Colombia, Sede Bogotá. Actualmente estoy cursando el sexto semestre de una carrera que me ha permitido enfocarme en diversos temas de estudio actuales, tales como el diseño óptico, la caracterización de materiales por difracción de rayos x y la física médica en general. Adentrámdome en mis datos personales, nací el 19 de noviembre del 2002, en la ciudad de Bogotá, donde he residido desde entonces, estudié mi primaria y secundaria en el Liceo Hermano Miguel de La Salle y actualmente me encuentro realizando un diplomado en ciencia de datos.\n",
    "><p><img src=https://pbs.twimg.com/profile_images/1205186540823097345/yvgIx7fo_400x400.jpg width=\"150\" height=\"150\"align=\"left\"/></p>\n"
   ]
  },
  {
   "cell_type": "markdown",
   "id": "33a020a9-ce9a-42b8-a55b-382878f0daa0",
   "metadata": {
    "tags": []
   },
   "source": [
    "## <h1 style=\"color:Green;\"> Integrales Definidas</h1>\n",
    "La integrales definidas son un concepto fundamental en el cálculo en general, estas se le atribuyen a diversos matemáticos introductores a cálculo inifnitesimal. Sin embargo, este concepto viene siendo abordado desde los tiempos de la antigua Grecia, con personajes como Arquímedes (ampliamente conocido por sus avances en las áreas limitadas por diversas curvas), logrando hallar con mucha precisión el área bajo las funciones $x$ y $x^2$.\n",
    "\n",
    "Adentrándonos en el concepto de las integrales definidas, se puede decir que este concepto corresponde al área bajo una curva cualquiera y, a su vez, se relaciona con las derivadas a través del teorema fundamental del cálculo. Para llegar a este concepto de la manera más natural posible, se debe de introducir un concepto fundamental, las sumatorias de Riemann. Estas sumatorias corresponden con la siguiente fórmula:\n",
    "\n",
    "\\begin{align}\n",
    "    \\sum_{K=1}^{n}f(t_k)(x_k-x_{k-1})\n",
    "\\end{align}\n",
    "\n",
    "\n",
    "\n",
    "Si a esta noción se le añade el concepto de límite, introducido formalmente por Newton, se llega a la definición de la integral definida\n",
    "\n",
    "\\begin{align}\n",
    "    \\int_{a}^{b}  \\! f(x) \\, dx = \\lim_{n \\to \\infty}(\\sum_{K=1}^{n}f(t_k)(x_k-x_{k-1}))\n",
    "\\end{align}\n",
    "\n",
    "Las aplicaciones de esta noción son innumerables, por mencionar algunas:\n",
    "- Áreas, volúmenes y generalizaciones de los mismos en varias dimensiones.\n",
    "\\begin{align}\n",
    "    \\int_{0}^{5}  \\! cos^2(x) \\, dx \\approx 2.36\n",
    "\\end{align}\n",
    "- Longitud de curvas.\n",
    "- Proyecciónes de funciones en análisis vectorial.\n",
    "- Promedios y valores esperados en densidades de probabilidad\n",
    "\n",
    "\n",
    "\n",
    "\n",
    "\n",
    " \n",
    " "
   ]
  },
  {
   "cell_type": "markdown",
   "id": "e7464b98-6714-4d88-95ba-2af6b7b7f364",
   "metadata": {},
   "source": [
    "<h3 style=\"color:green;\">Referencias</h3>\n",
    "\n",
    "2. [Taller de Matemáticas](http://tallermatematic.ovh/wp/2015/01/06/aplicaciones-de-la-integral-de-riemann/)\n",
    "\n",
    "3. [FlexBooks](https://flexbooks.ck12.org/cbook/c%C3%A1lculo-2.0/section/5.5/primary/lesson/la-integral-definida%3A-el-l%C3%ADmite-de-una-suma-de-riemann-calc-spn/)\n"
   ]
  }
 ],
 "metadata": {
  "kernelspec": {
   "display_name": "Python 3 (ipykernel)",
   "language": "python",
   "name": "python3"
  },
  "language_info": {
   "codemirror_mode": {
    "name": "ipython",
    "version": 3
   },
   "file_extension": ".py",
   "mimetype": "text/x-python",
   "name": "python",
   "nbconvert_exporter": "python",
   "pygments_lexer": "ipython3",
   "version": "3.10.6"
  }
 },
 "nbformat": 4,
 "nbformat_minor": 5
}
